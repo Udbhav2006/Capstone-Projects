{
 "cells": [
  {
   "cell_type": "markdown",
   "metadata": {},
   "source": [
    "Find pi to the nth decimal"
   ]
  },
  {
   "cell_type": "code",
   "execution_count": 1,
   "metadata": {},
   "outputs": [],
   "source": [
    "import math\n",
    "\n",
    "def pi(n):\n",
    "    pi = math.pi\n",
    "    pi_final = float(str(pi)[:n+2])\n",
    "    return pi_final"
   ]
  },
  {
   "cell_type": "code",
   "execution_count": 4,
   "metadata": {},
   "outputs": [
    {
     "data": {
      "text/plain": [
       "3.1415"
      ]
     },
     "execution_count": 4,
     "metadata": {},
     "output_type": "execute_result"
    }
   ],
   "source": [
    "pi(4)"
   ]
  },
  {
   "cell_type": "markdown",
   "metadata": {},
   "source": [
    "Find e to the nth decimal"
   ]
  },
  {
   "cell_type": "code",
   "execution_count": 6,
   "metadata": {},
   "outputs": [],
   "source": [
    "import math\n",
    "\n",
    "def e(n):\n",
    "    e = math.e\n",
    "    e_final = float(str(e)[:n+2])\n",
    "    return e_final"
   ]
  },
  {
   "cell_type": "code",
   "execution_count": 8,
   "metadata": {},
   "outputs": [
    {
     "data": {
      "text/plain": [
       "2.718"
      ]
     },
     "execution_count": 8,
     "metadata": {},
     "output_type": "execute_result"
    }
   ],
   "source": [
    "e(3)"
   ]
  },
  {
   "cell_type": "markdown",
   "metadata": {},
   "source": [
    "Generate Fibonacci sequence to nth number"
   ]
  },
  {
   "cell_type": "code",
   "execution_count": 30,
   "metadata": {},
   "outputs": [],
   "source": [
    "def fibo_gen(n):\n",
    "    sequence = [0,1]\n",
    "    a = 1\n",
    "    while a <= n-2:\n",
    "        sequence.append(sequence[-1] + sequence[-2])\n",
    "        a += 1\n",
    "    return sequence"
   ]
  },
  {
   "cell_type": "code",
   "execution_count": 34,
   "metadata": {},
   "outputs": [
    {
     "data": {
      "text/plain": [
       "[0, 1, 1, 2, 3, 5, 8, 13, 21, 34]"
      ]
     },
     "execution_count": 34,
     "metadata": {},
     "output_type": "execute_result"
    }
   ],
   "source": [
    "fibo_gen(10)"
   ]
  },
  {
   "cell_type": "markdown",
   "metadata": {},
   "source": [
    "Prime numbers till a number n"
   ]
  },
  {
   "cell_type": "code",
   "execution_count": 36,
   "metadata": {},
   "outputs": [],
   "source": [
    "def primes(n):\n",
    "    primes_list = []\n",
    "\n",
    "    for num in range(2,n):\n",
    "        prime = True\n",
    "        nums_list = [2,3,4,5,6,7,8,9]\n",
    "        if num in nums_list:\n",
    "            nums_list.pop(nums_list.index(num))\n",
    "        for a in nums_list:\n",
    "            \n",
    "            if num % a == 0:\n",
    "                prime = False\n",
    "                \n",
    "        if prime:\n",
    "            primes_list.append(num)\n",
    "    return primes_list"
   ]
  },
  {
   "cell_type": "code",
   "execution_count": 39,
   "metadata": {},
   "outputs": [
    {
     "data": {
      "text/plain": [
       "[2, 3, 5, 7]"
      ]
     },
     "execution_count": 39,
     "metadata": {},
     "output_type": "execute_result"
    }
   ],
   "source": [
    "primes(10)"
   ]
  },
  {
   "cell_type": "markdown",
   "metadata": {},
   "source": [
    "Collatz Conjecture"
   ]
  },
  {
   "cell_type": "code",
   "execution_count": 2,
   "metadata": {},
   "outputs": [],
   "source": [
    "def collatz_conjecture(n):\n",
    "    steps_count = 0\n",
    "    if n % 2 == 0:\n",
    "        while n != 1:\n",
    "            n /= 2\n",
    "            print(n)\n",
    "            steps_count += 1\n",
    "    else:\n",
    "        while n!= 1:\n",
    "            n = (n*3)+1\n",
    "            print(n)\n",
    "            steps_count += 1\n",
    "    return steps_count\n",
    "\n",
    "# ================================== COLLATZ CONJECTURE DOESNT WORK ============================"
   ]
  },
  {
   "cell_type": "markdown",
   "metadata": {},
   "source": [
    "Fizzbuzz"
   ]
  },
  {
   "cell_type": "code",
   "execution_count": 2,
   "metadata": {},
   "outputs": [
    {
     "name": "stdout",
     "output_type": "stream",
     "text": [
      "Fizzbuzz\n",
      "1\n",
      "2\n",
      "Fizz\n",
      "4\n",
      "Buzz\n",
      "Fizz\n",
      "7\n",
      "8\n",
      "Fizz\n",
      "Buzz\n",
      "11\n",
      "Fizz\n",
      "13\n",
      "14\n",
      "Fizzbuzz\n",
      "16\n",
      "17\n",
      "Fizz\n",
      "19\n",
      "Buzz\n",
      "Fizz\n",
      "22\n",
      "23\n",
      "Fizz\n",
      "Buzz\n",
      "26\n",
      "Fizz\n",
      "28\n",
      "29\n",
      "Fizzbuzz\n",
      "31\n",
      "32\n",
      "Fizz\n",
      "34\n",
      "Buzz\n",
      "Fizz\n",
      "37\n",
      "38\n",
      "Fizz\n",
      "Buzz\n",
      "41\n",
      "Fizz\n",
      "43\n",
      "44\n",
      "Fizzbuzz\n",
      "46\n",
      "47\n",
      "Fizz\n",
      "49\n",
      "Buzz\n",
      "Fizz\n",
      "52\n",
      "53\n",
      "Fizz\n",
      "Buzz\n",
      "56\n",
      "Fizz\n",
      "58\n",
      "59\n",
      "Fizzbuzz\n",
      "61\n",
      "62\n",
      "Fizz\n",
      "64\n",
      "Buzz\n",
      "Fizz\n",
      "67\n",
      "68\n",
      "Fizz\n",
      "Buzz\n",
      "71\n",
      "Fizz\n",
      "73\n",
      "74\n",
      "Fizzbuzz\n",
      "76\n",
      "77\n",
      "Fizz\n",
      "79\n",
      "Buzz\n",
      "Fizz\n",
      "82\n",
      "83\n",
      "Fizz\n",
      "Buzz\n",
      "86\n",
      "Fizz\n",
      "88\n",
      "89\n",
      "Fizzbuzz\n",
      "91\n",
      "92\n",
      "Fizz\n",
      "94\n",
      "Buzz\n",
      "Fizz\n",
      "97\n",
      "98\n",
      "Fizz\n",
      "Buzz\n"
     ]
    }
   ],
   "source": [
    "for num in range(101):\n",
    "    if num % 3 == 0 and num % 5 == 0:\n",
    "        print('Fizzbuzz')\n",
    "    elif num % 3 == 0:\n",
    "        print('Fizz')\n",
    "    elif num % 5 == 0:\n",
    "        print('Buzz')\n",
    "    else:\n",
    "        print(num)"
   ]
  },
  {
   "cell_type": "markdown",
   "metadata": {},
   "source": [
    "Pig Latin"
   ]
  },
  {
   "cell_type": "code",
   "execution_count": 19,
   "metadata": {},
   "outputs": [],
   "source": [
    "def eng_2_pig_latin(text):\n",
    "    text = text[:-1]\n",
    "    words = text.split(' ')\n",
    "    final_words = []\n",
    "    for word in words:\n",
    "        first = word[:1]\n",
    "        final_word = word[1:]+first+'ay'\n",
    "        final_words.append(final_word)\n",
    "    final_string = ' '.join(final_words)+'.'\n",
    "    return final_string\n",
    "    "
   ]
  },
  {
   "cell_type": "code",
   "execution_count": 20,
   "metadata": {},
   "outputs": [
    {
     "data": {
      "text/plain": [
       "'yMay amenay siay halilKay ndaay Iay maay ikelay aay appyHay ealMay.'"
      ]
     },
     "execution_count": 20,
     "metadata": {},
     "output_type": "execute_result"
    }
   ],
   "source": [
    "eng_2_pig_latin('My name is Khalil and I am like a Happy Meal.')"
   ]
  },
  {
   "cell_type": "code",
   "execution_count": null,
   "metadata": {},
   "outputs": [],
   "source": []
  },
  {
   "cell_type": "markdown",
   "metadata": {},
   "source": [
    "Encryptor and Decryptor => Done in PyCharm"
   ]
  },
  {
   "cell_type": "code",
   "execution_count": null,
   "metadata": {},
   "outputs": [],
   "source": []
  },
  {
   "cell_type": "markdown",
   "metadata": {},
   "source": [
    "SOCKET PROGRAMMING BASICS"
   ]
  },
  {
   "cell_type": "code",
   "execution_count": 1,
   "metadata": {},
   "outputs": [],
   "source": [
    "# Connecting to google server\n",
    "import socket\n",
    "\n",
    "s = socket.socket(socket.AF_INET, socket.SOCK_STREAM)\n",
    "# s.connect((socket.gethostbyname('www.google.com'), 80))\n"
   ]
  },
  {
   "cell_type": "code",
   "execution_count": null,
   "metadata": {},
   "outputs": [],
   "source": [
    "# Some server client interaction:\n",
    "\n",
    "# ==========Server================\n",
    "ss = socket.socket(socket.AF_INET, socket.SOCK_STREAM)\n",
    "ss.bind(('',12345))\n",
    "ss.listen(5)\n",
    "c,address = ss.accept()\n",
    "print(f'Client accepted at port {address}')\n",
    "text = 'Thank you for connecting'\n",
    "byt = text.encode()\n",
    "c.send(byt)\n",
    "c.close()\n",
    "\n",
    "# ===========Client========\n",
    "import socket\n",
    "s = socket.socket(socket.AF_INET, socket.SOCK_STREAM)\n",
    "s.connect(('127.0.0.1', 12345))\n",
    "print(s.recv(1024).decode())\n",
    "s.close()\n"
   ]
  },
  {
   "cell_type": "code",
   "execution_count": null,
   "metadata": {},
   "outputs": [],
   "source": []
  },
  {
   "cell_type": "markdown",
   "metadata": {},
   "source": [
    "PORT SCANNER => PyCharm"
   ]
  },
  {
   "cell_type": "code",
   "execution_count": null,
   "metadata": {},
   "outputs": [],
   "source": []
  },
  {
   "cell_type": "markdown",
   "metadata": {},
   "source": [
    "Mail Checker and Reader"
   ]
  },
  {
   "cell_type": "code",
   "execution_count": 1,
   "metadata": {},
   "outputs": [],
   "source": [
    "import imaplib, getpass, email, os, string\n",
    "from email.header import decode_header"
   ]
  },
  {
   "cell_type": "code",
   "execution_count": 2,
   "metadata": {},
   "outputs": [],
   "source": [
    "def clean(text):\n",
    "    return \"\".join(c if c.isalnum() else \"_\" for c in text)"
   ]
  },
  {
   "cell_type": "code",
   "execution_count": 3,
   "metadata": {},
   "outputs": [
    {
     "name": "stdout",
     "output_type": "stream",
     "text": [
      "Enter email: n.udbhav2006@gmail.com\n",
      "Enter password: ········\n"
     ]
    },
    {
     "data": {
      "text/plain": [
       "('OK', [b'n.udbhav2006@gmail.com authenticated (Success)'])"
      ]
     },
     "execution_count": 3,
     "metadata": {},
     "output_type": "execute_result"
    }
   ],
   "source": [
    "M = imaplib.IMAP4_SSL('imap.gmail.com')\n",
    "M.login(input('Enter email: '), getpass.getpass('Enter password: '))"
   ]
  },
  {
   "cell_type": "code",
   "execution_count": 4,
   "metadata": {},
   "outputs": [],
   "source": [
    "status, messages = M.select('INBOX')"
   ]
  },
  {
   "cell_type": "code",
   "execution_count": 5,
   "metadata": {},
   "outputs": [],
   "source": [
    "messages = int(messages[0])"
   ]
  },
  {
   "cell_type": "code",
   "execution_count": 7,
   "metadata": {},
   "outputs": [
    {
     "name": "stdout",
     "output_type": "stream",
     "text": [
      "How many messages do you want to see: 3\n",
      "Subject: Which books apart from NCERT should I refer to for NEET preparation? Should I get coaching study material or books like HC Verma?\n",
      "From: NEET UG Discussion <neetugdiscussion-space@quora.com>\n",
      "Subject: New India Samachar\n",
      "From: BOC-MIB <no-reply@sampark.gov.in>\n",
      "Subject: Your learning streak has ended\n",
      "From: Codecademy <learn@codecademy.com>\n"
     ]
    }
   ],
   "source": [
    "N = 'dfsfdfsf'\n",
    "while N not in string.digits:\n",
    "    N = input('How many messages do you want to see: ')\n",
    "\n",
    "for i in range(messages, messages-int(N), -1):\n",
    "    \n",
    "    result, message = M.fetch(str(i), '(RFC822)')\n",
    "    for response in message:\n",
    "        if isinstance(response, tuple):\n",
    "            msg = email.message_from_bytes(response[1])\n",
    "            subject, encoding = decode_header(msg['Subject'])[0]\n",
    "            if isinstance(subject, bytes):\n",
    "                subject = subject.decode(encoding)\n",
    "            from_email, encoding = decode_header(msg.get('From'))[0]\n",
    "            if isinstance(from_email, bytes):\n",
    "                from_email = from_email.decode(encoding)\n",
    "            print(f'''Subject: {subject}\n",
    "From: {from_email}''')"
   ]
  },
  {
   "cell_type": "code",
   "execution_count": null,
   "metadata": {},
   "outputs": [],
   "source": []
  },
  {
   "cell_type": "code",
   "execution_count": null,
   "metadata": {},
   "outputs": [],
   "source": []
  }
 ],
 "metadata": {
  "kernelspec": {
   "display_name": "Python 3",
   "language": "python",
   "name": "python3"
  },
  "language_info": {
   "codemirror_mode": {
    "name": "ipython",
    "version": 3
   },
   "file_extension": ".py",
   "mimetype": "text/x-python",
   "name": "python",
   "nbconvert_exporter": "python",
   "pygments_lexer": "ipython3",
   "version": "3.7.6"
  }
 },
 "nbformat": 4,
 "nbformat_minor": 4
}
